{
 "metadata": {
  "language_info": {
   "codemirror_mode": {
    "name": "ipython",
    "version": 3
   },
   "file_extension": ".py",
   "mimetype": "text/x-python",
   "name": "python",
   "nbconvert_exporter": "python",
   "pygments_lexer": "ipython3",
   "version": "3.7.7-final"
  },
  "orig_nbformat": 2,
  "kernelspec": {
   "name": "python3",
   "display_name": "Python 3",
   "language": "python"
  }
 },
 "nbformat": 4,
 "nbformat_minor": 2,
 "cells": [
  {
   "cell_type": "code",
   "execution_count": 3,
   "metadata": {},
   "outputs": [
    {
     "output_type": "execute_result",
     "data": {
      "text/plain": [
       "         DOMINICK DANIEL AND SERENA AMBER STEVENS  DOMINICK DANIEL STEVENS\n",
       "983                DENDY DOROTHY AND GARY LANGLEY    DENDY DOROTHY LANGLEY\n",
       "549                 JAMES AND ROBERT MICHAEL FUNG               JAMES FUNG\n",
       "707  ARMSTRONG LANGAN CHANEY AND JOHN RAYMOND ROY  ARMSTRONG LANGAN CHANEY\n",
       "997              CHARLES SIKKEMA AND SHERRI MOORE    CHARLES SIKKEMA MOORE\n",
       "287                   MARIA AND CHARLES HUTCHISON          MARIA HUTCHISON"
      ],
      "text/html": "<div>\n<style scoped>\n    .dataframe tbody tr th:only-of-type {\n        vertical-align: middle;\n    }\n\n    .dataframe tbody tr th {\n        vertical-align: top;\n    }\n\n    .dataframe thead th {\n        text-align: right;\n    }\n</style>\n<table border=\"1\" class=\"dataframe\">\n  <thead>\n    <tr style=\"text-align: right;\">\n      <th></th>\n      <th>DOMINICK DANIEL AND SERENA AMBER STEVENS</th>\n      <th>DOMINICK DANIEL STEVENS</th>\n    </tr>\n  </thead>\n  <tbody>\n    <tr>\n      <th>983</th>\n      <td>DENDY DOROTHY AND GARY LANGLEY</td>\n      <td>DENDY DOROTHY LANGLEY</td>\n    </tr>\n    <tr>\n      <th>549</th>\n      <td>JAMES AND ROBERT MICHAEL FUNG</td>\n      <td>JAMES FUNG</td>\n    </tr>\n    <tr>\n      <th>707</th>\n      <td>ARMSTRONG LANGAN CHANEY AND JOHN RAYMOND ROY</td>\n      <td>ARMSTRONG LANGAN CHANEY</td>\n    </tr>\n    <tr>\n      <th>997</th>\n      <td>CHARLES SIKKEMA AND SHERRI MOORE</td>\n      <td>CHARLES SIKKEMA MOORE</td>\n    </tr>\n    <tr>\n      <th>287</th>\n      <td>MARIA AND CHARLES HUTCHISON</td>\n      <td>MARIA HUTCHISON</td>\n    </tr>\n  </tbody>\n</table>\n</div>"
     },
     "metadata": {},
     "execution_count": 3
    }
   ],
   "source": [
    "import pandas as pd \n",
    "pd.set_option('display.max_rows', 1000)\n",
    "\n",
    "import os \n",
    "import numpy as np\n",
    "from sklearn.feature_extraction.text import CountVectorizer\n",
    "from sklearn.model_selection import train_test_split\n",
    "\n",
    "from IPython.core.interactiveshell import InteractiveShell\n",
    "InteractiveShell.ast_node_interactivity = \"all\"\n",
    "\n",
    "# setting up path to the data file\n",
    "PATH = os.path.abspath('')\n",
    "#PATH = os.path.join(PATH, 'DATA')\n",
    "names = 'dev-key.csv'\n",
    "\n",
    "# read in the data as panda dataframe\n",
    "df = pd.read_csv(os.path.join(PATH, names))\n",
    "df.sample(5)\n",
    "#df.head(10)\n",
    "#df"
   ]
  },
  {
   "cell_type": "code",
   "execution_count": 4,
   "metadata": {},
   "outputs": [
    {
     "output_type": "execute_result",
     "data": {
      "text/plain": [
       "DOMINICK DANIEL AND SERENA AMBER STEVENS    object\n",
       "DOMINICK DANIEL STEVENS                     object\n",
       "dtype: object"
      ]
     },
     "metadata": {},
     "execution_count": 4
    }
   ],
   "source": [
    "df.dtypes"
   ]
  },
  {
   "cell_type": "code",
   "execution_count": 5,
   "metadata": {},
   "outputs": [
    {
     "output_type": "execute_result",
     "data": {
      "text/plain": [
       "    DOMINICK DANIEL AND SERENA AMBER STEVENS  DOMINICK DANIEL STEVENS\n",
       "0              KARLA AND JOHN ANDRE MOREHEAD           KARLA MOREHEAD\n",
       "1  SIDNEY STEVEN AND MONICA PATRICIA IRELAND    SIDNEY STEVEN IRELAND\n",
       "2         EMMA AND RICKIE HALBERSTADT ACOSTA  EMMA HALBERSTADT ACOSTA"
      ],
      "text/html": "<div>\n<style scoped>\n    .dataframe tbody tr th:only-of-type {\n        vertical-align: middle;\n    }\n\n    .dataframe tbody tr th {\n        vertical-align: top;\n    }\n\n    .dataframe thead th {\n        text-align: right;\n    }\n</style>\n<table border=\"1\" class=\"dataframe\">\n  <thead>\n    <tr style=\"text-align: right;\">\n      <th></th>\n      <th>DOMINICK DANIEL AND SERENA AMBER STEVENS</th>\n      <th>DOMINICK DANIEL STEVENS</th>\n    </tr>\n  </thead>\n  <tbody>\n    <tr>\n      <th>0</th>\n      <td>KARLA AND JOHN ANDRE MOREHEAD</td>\n      <td>KARLA MOREHEAD</td>\n    </tr>\n    <tr>\n      <th>1</th>\n      <td>SIDNEY STEVEN AND MONICA PATRICIA IRELAND</td>\n      <td>SIDNEY STEVEN IRELAND</td>\n    </tr>\n    <tr>\n      <th>2</th>\n      <td>EMMA AND RICKIE HALBERSTADT ACOSTA</td>\n      <td>EMMA HALBERSTADT ACOSTA</td>\n    </tr>\n  </tbody>\n</table>\n</div>"
     },
     "metadata": {},
     "execution_count": 5
    }
   ],
   "source": [
    "# First three rows\n",
    "df.iloc[:3]"
   ]
  },
  {
   "cell_type": "code",
   "execution_count": 6,
   "metadata": {},
   "outputs": [
    {
     "output_type": "stream",
     "name": "stdout",
     "text": [
      "(999, 2)\n    DOMINICK DANIEL AND SERENA AMBER STEVENS  DOMINICK DANIEL STEVENS\n0              KARLA AND JOHN ANDRE MOREHEAD           KARLA MOREHEAD\n1  SIDNEY STEVEN AND MONICA PATRICIA IRELAND    SIDNEY STEVEN IRELAND\n2         EMMA AND RICKIE HALBERSTADT ACOSTA  EMMA HALBERSTADT ACOSTA\n"
     ]
    }
   ],
   "source": [
    "print(df.shape)\n",
    "print(df.head(3))"
   ]
  },
  {
   "cell_type": "code",
   "execution_count": 7,
   "metadata": {},
   "outputs": [
    {
     "output_type": "stream",
     "name": "stdout",
     "text": [
      "DOMINICK DANIEL AND SERENA AMBER STEVENS    KARLA AND JOHN ANDRE MOREHEAD\nDOMINICK DANIEL STEVENS                                    KARLA MOREHEAD\nName: 0, dtype: object\n"
     ]
    }
   ],
   "source": [
    "print(df.iloc[0])"
   ]
  },
  {
   "cell_type": "code",
   "execution_count": 8,
   "metadata": {},
   "outputs": [],
   "source": [
    "#df.iloc[:,0]"
   ]
  },
  {
   "cell_type": "code",
   "execution_count": 12,
   "metadata": {},
   "outputs": [],
   "source": [
    "#DRIVER - PREPROCESSING\n",
    "#Create dicts of male and female names with key = name, value = percent\n",
    "\n",
    "#PARAMETERS\n",
    "female_file = 'dist.female.first.txt'\n",
    "male_file = 'dist.male.first.txt'\n",
    "surname_file = 'Names_2010Census.csv'\n",
    "\n",
    "gender_files = [female_file, male_file]\n",
    "gender_dicts = [dict(), dict()]\n"
   ]
  },
  {
   "cell_type": "code",
   "execution_count": 13,
   "metadata": {
    "tags": []
   },
   "outputs": [],
   "source": [
    "# Build 2 dictionary: One for female and other for male (key=name, value = percent)\n",
    "for file, d in zip(gender_files, gender_dicts):\n",
    "    fd = open(file, 'r')\n",
    "    lines = fd.readlines()\n",
    "    #print(lines)\n",
    "    for line in lines:\n",
    "        line = line.split() # split with space by default\n",
    "        name = line[0]\n",
    "        percent = float(line[1])\n",
    "        d[name] = percent\n",
    "\n",
    "\n"
   ]
  },
  {
   "cell_type": "code",
   "execution_count": 17,
   "metadata": {},
   "outputs": [],
   "source": [
    "#Create surname_dict where key = lastname, value = rank\n",
    "surname_dict = {}\n",
    "fd = open(surname_file, 'r')\n",
    "lines = fd.readlines()\n",
    "#print(lines)\n",
    "for line in lines[1:]:\n",
    "    line = line.split(',')\n",
    "    surname_dict[line[0]] = int(line[1])"
   ]
  },
  {
   "cell_type": "code",
   "execution_count": 18,
   "metadata": {},
   "outputs": [],
   "source": [
    "# Add 0 token from name2 : if len(name1 >=2) AND name1[-1] is the lastname (Rank of lastname > 150)\n",
    "# Add 1 token from name2 : if name1[-1] is not the lastname AND name2[-2] is not the lastname AND name2[-1] is the lastname. (len(name2)>=2)\n",
    "# Add 2 token from name2 : if name1[-1] is not the lastname AND both name2[-2] and name2[-1] are the lastname. (len(name2)>=3)\n"
   ]
  },
  {
   "cell_type": "code",
   "execution_count": 19,
   "metadata": {},
   "outputs": [
    {
     "output_type": "stream",
     "name": "stdout",
     "text": [
      "DOMINICK DANIEL====SERENA AMBER STEVENS\n\n['DOMINICK', 'DANIEL']\n++++++++++++++++++\nKARLA====JOHN ANDRE MOREHEAD\n\n['KARLA']\n++++++++++++++++++\nSIDNEY STEVEN====MONICA PATRICIA IRELAND\n\n['SIDNEY', 'STEVEN']\n++++++++++++++++++\nEMMA====RICKIE HALBERSTADT ACOSTA\n\n['EMMA']\n++++++++++++++++++\nDANIEL JONES====MARY SERRANO\n\n['DANIEL', 'JONES']\n++++++++++++++++++\nBONNIE====MICHAEL TRAN\n\n['BONNIE']\n++++++++++++++++++\n"
     ]
    }
   ],
   "source": [
    "dev_file = 'dev-test.csv'\n",
    "fd = open(dev_file, 'r')\n",
    "lines = fd.readlines()\n",
    "count = 0\n",
    "for line in lines:\n",
    "    count = count + 1\n",
    "    #print(\"line : \",line)\n",
    "    line = line.split(' AND ')\n",
    "    print(line[0] + \"====\" + line[1])\n",
    "    tokens = line[0].split(' ')\n",
    "    print(tokens)\n",
    "    print(\"++++++++++++++++++\")\n",
    "    if count > 5: break"
   ]
  },
  {
   "cell_type": "code",
   "execution_count": 24,
   "metadata": {},
   "outputs": [
    {
     "output_type": "stream",
     "name": "stdout",
     "text": [
      "hello\n"
     ]
    }
   ],
   "source": [
    "name1lastwordvalue = 110\n",
    "if (name1lastwordvalue is None or name1lastwordvalue > 150):\n",
    "    print(\"Hi\")\n",
    "else:\n",
    "    print(\"hello\")    "
   ]
  },
  {
   "cell_type": "code",
   "execution_count": null,
   "metadata": {},
   "outputs": [],
   "source": [
    "import sys\n",
    "#test_file = sys.argv[1] # Read from command line\n",
    "test_file = 'dev-test.csv'\n",
    "output = open ('full-name-output.csv' , 'w')\n",
    "test_lines = open (test_file , 'r')\n",
    "for line in test_lines:\n",
    "    line = line.strip() # Remove newline character\n",
    "    [first_person , second_person] = line.split(' AND ')\n",
    "    predicted_first_person = first_person # Simple and mostly wrong\n",
    "    output.write (line + ',' + predicted_first_person + '\\n')\n",
    "output.close"
   ]
  },
  {
   "cell_type": "code",
   "execution_count": 27,
   "metadata": {},
   "outputs": [
    {
     "output_type": "stream",
     "name": "stdout",
     "text": [
      "I am a boy \nHI\n"
     ]
    },
    {
     "output_type": "execute_result",
     "data": {
      "text/plain": [
       "'I am a boy'"
      ]
     },
     "metadata": {},
     "execution_count": 27
    }
   ],
   "source": [
    "line = \"I am a boy \"\n",
    "print(line+\"HI\")\n",
    "line = line.strip()\n",
    "line"
   ]
  },
  {
   "cell_type": "code",
   "execution_count": null,
   "metadata": {},
   "outputs": [],
   "source": []
  }
 ]
}